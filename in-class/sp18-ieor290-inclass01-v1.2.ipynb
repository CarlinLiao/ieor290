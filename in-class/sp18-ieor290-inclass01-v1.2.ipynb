{
 "cells": [
  {
   "cell_type": "markdown",
   "metadata": {},
   "source": [
    "# In Class Assignment 1\n",
    "\n",
    "## Monday, Jan. 29, 2018\n",
    "\n",
    "Today's class focuses on Support Vector Machines (SVMs), a method of doing maximum margin classification. "
   ]
  },
  {
   "cell_type": "code",
   "execution_count": 1,
   "metadata": {},
   "outputs": [
    {
     "data": {
      "image/png": "[encoded data removed]",
      "text/plain": [
       "<matplotlib.figure.Figure at 0x7f1a4873e048>"
      ]
     },
     "metadata": {},
     "output_type": "display_data"
    }
   ],
   "source": [
    "# import packages\n",
    "import numpy as np\n",
    "import matplotlib.pyplot as plt\n",
    "import scipy.optimize as opt\n",
    "\n",
    "#Generate dummy data and instantiate functions\n",
    "#Run this cell to initialize homework\n",
    "\n",
    "N = 100\n",
    "np.random.seed(15)\n",
    "\n",
    "x0 = 10*np.random.rand(N)\n",
    "x1 = 10*np.random.rand(N)\n",
    "b0 = 500*np.random.rand(1)*np.ones(N)\n",
    "b1 = np.random.rand(1)*np.ones(N)\n",
    "\n",
    "y0=10*x0+b0+np.random.normal(0,40,N)\n",
    "y1=10*x1+b1+np.random.normal(0,40,N)\n",
    "\n",
    "x=np.zeros((2*N,2))\n",
    "y=np.zeros((2*N,))\n",
    "y[:N]=1\n",
    "y[N:]=-1\n",
    "\n",
    "for i in range(N):\n",
    "    x[i,:]=[x0[i],y0[i]]\n",
    "    x[N+i,:]=[x1[i],y1[i]]\n",
    "    \n",
    "plt.figure()\n",
    "plt.plot(x0,y0,'ro')\n",
    "plt.plot(x1,y1,'bo')\n",
    "plt.axis([np.min(x[:,0])-1,np.max(x[:,0])+1,np.min(x[:,1])-10,np.max(x[:,1])+10])\n",
    "\n",
    "def plotClassifier(B,B0):\n",
    "    \n",
    "    x1=np.linspace(0,10,1000)\n",
    "    x2=-1*(B[0]*x1+B0)/B[1]\n",
    "    plt.plot(x1,x2,'k',linewidth=4)\n",
    "    return\n",
    "\n",
    "def optimize(func,constraint):\n",
    "    \n",
    "    print ('Optimizing...(May take some time to run)')\n",
    "    bound=[(0,None)]*2*N\n",
    "    lagrange=opt.minimize(func,x0=np.ones(2*N),bounds=bound,constraints={'type': 'eq', 'fun': constraint})\n",
    "\n",
    "    return lagrange\n",
    "\n",
    "plt.show()"
   ]
  },
  {
   "cell_type": "markdown",
   "metadata": {},
   "source": [
    "# Classification\n",
    "\n",
    "Suppose we're given data points $x_i \\in \\mathbb{R}^n$ and $y_i \\in \\{-1,+1\\}$, for $i = 1,\\dots,N$. \n",
    "\n",
    "The $x_i$ are the features and $y_i$ are labels taking values in either $-1$ or $+1$. The $x_i$ could be the pixel intensities in an image of an animal, and $y_i$ could indicate whether the animal is a `cat` or ` dog`, for example. For machine learning, we want to get a good guess of what $y_i$ is from only looking at $x_i$; so, the computer algorithm can take in images and distinguish between cats and dogs. \n",
    "\n",
    "## Defining a linear classifier\n",
    "Our dataset is then $(x_1,y_1),\\dots,(x_N,y_N)$.\n",
    "\n",
    "Now let's fix some parameters $\\beta \\in \\mathbb{R}^n$ and $\\beta_0 \\in \\mathbb{R}$. We can define a hyperplane as:\n",
    "\n",
    "$$\\{ x : x^{T} \\beta + \\beta_0 = 0 \\}$$\n",
    "\n",
    "This cuts our feature space, $\\mathbb{R}^n$, in half. That is, every point in $\\mathbb{R}^n$ is either above, below, or on this hyperplane. \n",
    "\n",
    "Let:\n",
    "\n",
    "$$\n",
    "f(x;\\beta,\\beta_0) = x^T \\beta + \\beta_0\n",
    "$$\n",
    "\n",
    "Sometimes, when it is obvious, we'll drop the dependence on $\\beta,\\beta_0$ and just denote this $f(x)$.\n",
    "\n",
    "We can define a classifier:\n",
    "\n",
    "$$\n",
    "G(x) = \n",
    "\\begin{cases}\n",
    "+1 & \\text{ if } f(x) \\geq 0 \\\\\n",
    "-1 & \\text{ if } f(x) < 0\n",
    "\\end{cases}\n",
    "$$\n",
    "\n",
    "\n",
    "\n",
    "\n"
   ]
  },
  {
   "cell_type": "markdown",
   "metadata": {},
   "source": [
    "# Task 1: Linear Classifier\n",
    "\n",
    "We begin by creating a function that takes in $\\beta$ and $\\beta_0$ and outputs a label for each datapoint. Note that $X \\in \\mathbb{R}^{N \\times n}$ is a matrix of $N$ datapoints. In this example, $n = 2$."
   ]
  },
  {
   "cell_type": "code",
   "execution_count": 2,
   "metadata": {},
   "outputs": [],
   "source": [
    "def classify(B,B0,X):\n",
    "         \n",
    "        return np.sign(X@B + B0)"
   ]
  },
  {
   "cell_type": "code",
   "execution_count": 5,
   "metadata": {
    "scrolled": true
   },
   "outputs": [
    {
     "name": "stdout",
     "output_type": "stream",
     "text": [
      "\n",
      "\n",
      "66 Data points were classified as +1\n",
      "134 Data points were classified as -1\n",
      "\n",
      "\n"
     ]
    },
    {
     "data": {
      "image/png": "[encoded data removed]",
      "text/plain": [
       "<matplotlib.figure.Figure at 0x7f1a5838d240>"
      ]
     },
     "metadata": {},
     "output_type": "display_data"
    }
   ],
   "source": [
    "# Run this cell to test a classifier with a random linear separator\n",
    "\n",
    "test_B=np.random.rand(2)\n",
    "test_B0=b0[0]/-5.0\n",
    "\n",
    "print()\n",
    "print()\n",
    "print (str(np.sum(classify(test_B,test_B0,x)==1)) + ' Data points were classified as +1')\n",
    "print (str(np.sum(classify(test_B,test_B0,x)==-1)) + ' Data points were classified as -1')\n",
    "print()\n",
    "print()\n",
    "\n",
    "\n",
    "plt.figure()\n",
    "plt.plot(x0,y0,'ro')\n",
    "plt.plot(x1,y1,'bo')\n",
    "plotClassifier(test_B,test_B0)\n",
    "plt.axis([np.min(x[:,0])-1,np.max(x[:,0])+1,np.min(x[:,1])-10,np.max(x[:,1])+10])\n",
    "\n",
    "plt.show()"
   ]
  },
  {
   "cell_type": "markdown",
   "metadata": {},
   "source": [
    "# Maximum Margin Classification\n",
    "\n",
    "Having defined a general function that classifies points, we now try to find the maximum margin classifier.\n",
    "\n",
    "Suppose our dataset is strongly separable. (Sanity check: Is the data we are using separable by a hyperplane?). There are infinitely many hyperplanes that can separate this data. Which one of these separators is 'best'? The answer is the one with the largest margin.\n",
    "\n",
    "Recall from class that the problem that maximum margin classification is trying to solve is:\n",
    "\n",
    "\\begin{align*}\n",
    "\\min_{\\beta,\\beta_0}~ & \\|\\beta\\|^2_2 \\\\\n",
    "\\text{subject to }~\t\t& y_i (x_i^T \\beta + \\beta_0) \\geq 1 \\text{ for } i = 1,\\dots,N \\\\\n",
    "\\end{align*}\n",
    "\n",
    "Note that when we remove the norm constraint, what was the 'margin' before is now equal to $\\frac{1}{\\|\\beta\\|_2}$."
   ]
  },
  {
   "cell_type": "markdown",
   "metadata": {},
   "source": [
    "## Task 2: Maximum Margin Classifification through duality"
   ]
  },
  {
   "cell_type": "markdown",
   "metadata": {},
   "source": [
    "We are going to solve this problem by formulating the dual problem. First derive lagrangian of the minimization above. \n",
    "\n",
    "$$\n",
    "L(\\beta,\\beta_0,\\lambda)= ???\n",
    "$$\n",
    "\n",
    "\n",
    "\n"
   ]
  },
  {
   "cell_type": "markdown",
   "metadata": {},
   "source": [
    "Note, the optimization problem is now:\n",
    "\n",
    "\n",
    "\\begin{align*}\n",
    " \\min_{\\beta,\\beta_0} \\max_{\\lambda\\ge0}~ &  L(\\beta,\\beta_0,\\lambda)\n",
    "\\end{align*}\n",
    "\n",
    "Due to the convexity of the problem, we can rewrite this as:\n",
    "\n",
    "\\begin{align*}\n",
    "\\max_{\\lambda\\ge0} \\min_{\\beta,\\beta_0}~ &  L(\\beta,\\beta_0,\\lambda)\n",
    "\\end{align*}\n",
    "\n",
    "By solving the now unconstrained minimization:\n",
    "\n",
    "$$\n",
    "\\min_{\\beta,\\beta_0} \\ \\ L(\\beta,\\beta_0,\\lambda)\n",
    "$$\n",
    "\n",
    "Formulate a problem in the form:\n",
    "\n",
    "\\begin{align*}\n",
    "\\min_{\\lambda\\ge0}~ & h(\\lambda) \\\\\n",
    "\\text{subject to }~\t& g(\\lambda)=0 \\\\\n",
    "\\end{align*}\n",
    "\n",
    "\n",
    "(Hint: Solve for the optimality conditions of $\\beta$ and $\\beta_0$)\n",
    "\n",
    "\n"
   ]
  },
  {
   "cell_type": "markdown",
   "metadata": {},
   "source": [
    "## Task 3: Dual Problem Formulation"
   ]
  },
  {
   "cell_type": "markdown",
   "metadata": {},
   "source": [
    "Note you have access to the data $x_1,...x_N$ and the labels $y_1,...y_N$.\n",
    "\n",
    "$$\n",
    "h(\\lambda)=???\n",
    "$$\n",
    "\n",
    "$$\n",
    "g(\\lambda)=???\n",
    "$$"
   ]
  },
  {
   "cell_type": "markdown",
   "metadata": {},
   "source": [
    "Given the dual problem formulation above, we will now use the scikit learn python library to solve the dual, and thus the primal problem. "
   ]
  },
  {
   "cell_type": "code",
   "execution_count": 10,
   "metadata": {
    "collapsed": true
   },
   "outputs": [],
   "source": [
    "# Write out functions h, and g above, taking in the vector of lagrange multipliers lam\n",
    "# Note, the data x and y are global variables\n",
    "# Once you have written the functions, we will call scipy-optimize (this is done for you).\n",
    "\n",
    "def h(lam):\n",
    "    \n",
    "    #TODO\n",
    "    \n",
    "    return \n",
    "\n",
    "def g(lam):\n",
    "    \n",
    "    #TODO\n",
    "    \n",
    "    return "
   ]
  },
  {
   "cell_type": "markdown",
   "metadata": {},
   "source": [
    "Now given the lagrange multipliers, find $\\beta$ and $\\beta_0$:"
   ]
  },
  {
   "cell_type": "code",
   "execution_count": 6,
   "metadata": {
    "collapsed": true
   },
   "outputs": [],
   "source": [
    "# Take in the vector of lagrange multipliers and calculate B, and B_0\n",
    "\n",
    "def lagrange_to_classifier(lam,x,y):\n",
    "    \n",
    "    #TODO\n",
    "    \n",
    "    return beta, beta_0"
   ]
  },
  {
   "cell_type": "markdown",
   "metadata": {},
   "source": [
    "# Final SVM Results:"
   ]
  },
  {
   "cell_type": "code",
   "execution_count": 7,
   "metadata": {},
   "outputs": [
    {
     "name": "stdout",
     "output_type": "stream",
     "text": [
      "Optimizing...(May take some time to run)\n"
     ]
    },
    {
     "data": {
      "image/png": "[encoded data removed]",
      "text/plain": [
       "<matplotlib.figure.Figure at 0x114871d68>"
      ]
     },
     "metadata": {},
     "output_type": "display_data"
    }
   ],
   "source": [
    "# Run this cell to see the results\n",
    "\n",
    "lag=optimize(h,g)\n",
    "B,B0=lagrange_to_classifier(lag.x,x,y)\n",
    "plt.figure()\n",
    "plt.plot(x[:N,0],x[:N,1],'ro')\n",
    "plt.plot(x[N:,0],x[N:,1],'bo')\n",
    "plotClassifier(B,B0) \n",
    "plt.axis([np.min(x[:,0])-1,np.max(x[:,0])+1,np.min(x[:,1])-10,np.max(x[:,1])+10])\n",
    "plt.show()"
   ]
  },
  {
   "cell_type": "markdown",
   "metadata": {},
   "source": [
    "The data points that determine the maximum margin are commonly referred to as 'support vectors'. These are the data points $x$ with the maximum value of $|f(x)|$.\n",
    "\n"
   ]
  },
  {
   "cell_type": "markdown",
   "metadata": {},
   "source": [
    "Find the support vectors of the maximum margin classifier visually."
   ]
  },
  {
   "cell_type": "code",
   "execution_count": null,
   "metadata": {
    "collapsed": true
   },
   "outputs": [],
   "source": []
  }
 ],
 "metadata": {
  "kernelspec": {
   "display_name": "Python 3",
   "language": "python",
   "name": "python3"
  },
  "language_info": {
   "codemirror_mode": {
    "name": "ipython",
    "version": 3
   },
   "file_extension": ".py",
   "mimetype": "text/x-python",
   "name": "python",
   "nbconvert_exporter": "python",
   "pygments_lexer": "ipython3",
   "version": "3.6.3"
  }
 },
 "nbformat": 4,
 "nbformat_minor": 2
}
