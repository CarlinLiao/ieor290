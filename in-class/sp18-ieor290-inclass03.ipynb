{
 "cells": [
  {
   "cell_type": "markdown",
   "metadata": {},
   "source": [
    "# Social welfare functions and Arrow's impossibility theorem\n",
    "\n",
    "Let's talk about how we take the preferences of a set of people and turn them into a social preference. In other words, if you have a society of $m$ people who all have their own preferences on the state of the world, how can we reconcile that together into one preference: the preference of the society of these $m$ people? As a unit, what are the preferences of this society? How are compromises made?\n",
    "\n",
    "As we covered in class, a social welfare function takes in $m$ preferences and outputs $1$ preference. Arrow's impossibility theorem says that there exists no social welfare function that jointly satisfies a few desirable properties: unanimity, independence of irrelevant alternatives, and non-dictatorship.\n",
    "\n",
    "Let $A$ denote the finite set of outcomes that can happen. Without loss of generality, let's just call the outcomes $A = \\{0,1,\\dots,n-1\\}$. Similarly, let's name our $m$ agents $\\{0,1,\\dots,m-1\\}$.\n",
    "\n",
    "The code below randomly generates $m$ preferences, stored in the array `agents`. For agent $i \\in \\{0,1,\\dots,m-1\\}$, their preference is in `agents[i]`.\n",
    "\n",
    "We'll use the convention that if item $x$ appears earlier (i.e. has a lower index) than item $y$, then $x$ is preferred over $y$ (i.e. $x \\succ y$). So, suppose agent $i$ has preferences $0 \\succ 2 \\succ 1$, then in an array, this would be represented as `[0 2 1]`.\n",
    "\n",
    "As always, we have a few cells of code to load packages, initialize variables, and define some helper functions I've provided."
   ]
  },
  {
   "cell_type": "code",
   "execution_count": null,
   "metadata": {},
   "outputs": [],
   "source": [
    "# Load packages\n",
    "\n",
    "import numpy as np"
   ]
  },
  {
   "cell_type": "code",
   "execution_count": null,
   "metadata": {},
   "outputs": [],
   "source": [
    "# Initialize variables\n",
    "\n",
    "# n is the number of alternatives\n",
    "n = 5\n",
    "\n",
    "# m is the number of agents\n",
    "m = 3\n",
    "\n",
    "# seed the random number generator\n",
    "np.random.seed(15)\n",
    "\n",
    "# randomly generate preferences for m agents\n",
    "agents = []\n",
    "for i in range(m):\n",
    "    agents.append( np.random.permutation(n) )"
   ]
  },
  {
   "cell_type": "code",
   "execution_count": null,
   "metadata": {},
   "outputs": [],
   "source": [
    " # check if the array x is a valid permutation of range(len(x))\n",
    "def check_preference(x):\n",
    "    \n",
    "    for ind,xi in enumerate(sorted(x)):\n",
    "        if (ind != xi):\n",
    "            return False\n",
    "    \n",
    "    return True"
   ]
  },
  {
   "cell_type": "markdown",
   "metadata": {},
   "source": [
    "# Implement a social welfare function\n",
    "\n",
    "First, to get us all thinking about this problem, let's try and implement a social welfare function. If you were a designer of a society and you were told $m$ people had certain preferences, how would *you* decide the preferences of society as a unit?"
   ]
  },
  {
   "cell_type": "markdown",
   "metadata": {},
   "source": [
    "# Task 1: describe your social welfare function in words\n",
    "\n",
    "Before you begin coding, take some time to think of what you want your function to do. Then, describe it in words or pseudocode.\n",
    "\n",
    "???"
   ]
  },
  {
   "cell_type": "markdown",
   "metadata": {},
   "source": [
    "# Task 2: implement your described social welfare function\n",
    "\n",
    "Go ahead and code!"
   ]
  },
  {
   "cell_type": "code",
   "execution_count": null,
   "metadata": {},
   "outputs": [],
   "source": [
    "# task 2: write code to take in m permutations of range(n) and output 1 societal preference\n",
    "def social_welfare(agents):\n",
    "    \n",
    "    m = len(agents)\n",
    "    if m <= 0:\n",
    "        print('ERROR: empty agents argument.')\n",
    "        \n",
    "    n = len(agents[0])\n",
    "    \n",
    "    for agenti in agents:\n",
    "        if not check_preference(agenti):\n",
    "            print('ERROR: invalid preference passed as argument.')\n",
    "            return False\n",
    "        \n",
    "    # TODO: replace this code here to take in m preferences and output 1 societal preference\n",
    "    \n",
    "    social_preference = agents[0]\n",
    "    \n",
    "    # END TODO\n",
    "    \n",
    "    # check the validity of preference before returning\n",
    "    if not check_preference(social_preference):\n",
    "        print('ERROR: social_preference() wants to return an invalid preference.')\n",
    "        return False\n",
    "    \n",
    "    return social_preference"
   ]
  },
  {
   "cell_type": "code",
   "execution_count": null,
   "metadata": {},
   "outputs": [],
   "source": [
    "# call the social_welfare function\n",
    "\n",
    "print('there are {} agents with preferences across {} choices'.format(m,n))\n",
    "print()\n",
    "\n",
    "for (i,agenti) in enumerate(agents):\n",
    "    print('agent {}\\'s preferences are: \\n {}'.format(i,agenti))\n",
    "print()\n",
    "\n",
    "society = social_welfare(agents)\n",
    "\n",
    "print('society\\'s preferences are: \\n {}'.format(society))"
   ]
  },
  {
   "cell_type": "markdown",
   "metadata": {},
   "source": [
    "# Thinking about Arrow's impossibility theorem\n",
    "\n",
    "So, let's redefine our core concepts in Arrow's impossibility theorem.\n",
    "\n",
    "First, **unanimity** means that if all $m$ agents have the same preferences, then the societal preference is the same thing. Formally, this means that for any preference $\\succ$, the social choice function satisfies $\\succ = F(\\succ, \\succ, \\dots, \\succ)$.\n",
    "\n",
    "In code, this means for any preference `X`, if `agents[i] == X` for all `i`, then `social_welfare(agents) == agents[0] == agents[1] == ... == agents[m-1]`.\n",
    "\n",
    "Second, **dictatorship** means that there exists one user who entirely determines the societal preference. Formally, there exists an $i$ such that $F(\\succ_1,\\dots,\\succ_m) = \\succ_i$.\n",
    "\n",
    "In code, this means that there exists some `i` such that `social_welfare(agents) == agents[i]` is always true, regardless of the values of `agents[.]`.\n",
    "\n",
    "Finally, **independence of irrelevant alternatives** means that the relative preferences of a third option do not affect the ordering of the first two options. Formally, suppose you have one society of $m$ people $\\succ_1,\\dots,\\succ_m$, and then suppose you have a second society of $m$ different people $\\succ_1',\\dots,\\succ_m'$. If person $i$ in the first society has the same relative preference as person $i$ in the second society between outcomes $x$ and $y$, then the societal preference of the first society has the same relative preference between $x$ and $y$ as the second society. Notationally, this means that if ($x \\succ_i y$ if and only if $x \\succ_i' y$), then ($x \\succ y$ if and only if $x \\succ' y$). (Here, $\\succ = F(\\succ_1,\\dots,\\succ_m)$ and $\\succ' = F(\\succ_1',\\dots,\\succ_m')$.)\n",
    "\n",
    "As an exercise, can you figure out what this means in code?\n",
    "\n",
    "Finally, find a partner in class and share your `social_welfare()` function with them. Can you find how Arrow's impossibility theorem applies? In other words, which of the 3 desiderata are violated when $n \\geq 3$?"
   ]
  },
  {
   "cell_type": "code",
   "execution_count": null,
   "metadata": {},
   "outputs": [],
   "source": [
    "# does the function satisfy unanimity?\n",
    "\n",
    "# does the function satisfy independence of irrelevant alternatives?\n",
    "\n",
    "# is there a dictator?\n"
   ]
  }
 ],
 "metadata": {
  "kernelspec": {
   "display_name": "Python 3",
   "language": "python",
   "name": "python3"
  },
  "language_info": {
   "codemirror_mode": {
    "name": "ipython",
    "version": 3
   },
   "file_extension": ".py",
   "mimetype": "text/x-python",
   "name": "python",
   "nbconvert_exporter": "python",
   "pygments_lexer": "ipython3",
   "version": "3.6.4"
  }
 },
 "nbformat": 4,
 "nbformat_minor": 2
}
