{
 "cells": [
  {
   "cell_type": "markdown",
   "metadata": {},
   "source": [
    "# In Class Assignment 1"
   ]
  },
  {
   "cell_type": "markdown",
   "metadata": {},
   "source": [
    "## Monday, Jan. 29, 2018"
   ]
  },
  {
   "cell_type": "markdown",
   "metadata": {},
   "source": [
    "Today's class focuses on Support Vector Machines (SVMs), a method of doing maximum margin classification. "
   ]
  },
  {
   "cell_type": "code",
   "execution_count": 1,
   "metadata": {
    "collapsed": true
   },
   "outputs": [],
   "source": [
    "# import packages\n",
    "import numpy as np\n",
    "import matplotlib.pyplot as plt"
   ]
  },
  {
   "cell_type": "code",
   "execution_count": 2,
   "metadata": {},
   "outputs": [
    {
     "data": {
      "image/png": "[encoded data removed]",
      "text/plain": [
       "<matplotlib.figure.Figure at 0x1052009e8>"
      ]
     },
     "metadata": {},
     "output_type": "display_data"
    }
   ],
   "source": [
    "# Generate dummy data for linear SVM.\n",
    "\n",
    "N = 100\n",
    "\n",
    "np.random.seed(15)\n",
    "\n",
    "x0 = 10*np.random.rand(N)\n",
    "x1 = 10*np.random.rand(N)\n",
    "b0 = 500*np.random.rand(1)*np.ones(N)\n",
    "b1 = np.random.rand(1)*np.ones(N)\n",
    "\n",
    "y0=10*x0+b0+np.random.normal(0,40,N)\n",
    "y1=10*x1+b1+np.random.normal(0,40,N)\n",
    "\n",
    "x=np.zeros((2*N,2))\n",
    "y=np.zeros((2*N,))\n",
    "y[:N]=1\n",
    "y[N:]=-1\n",
    "\n",
    "for i in range(N):\n",
    "    x[i,:]=[x0[i],y0[i]]\n",
    "    x[N+i,:]=[x1[i],y1[i]]\n",
    "\n",
    "plt.figure()\n",
    "plt.plot(x0,y0,'ro')\n",
    "plt.plot(x1,y1,'bo')\n",
    "\n",
    "def plotClassifier(B,B0):\n",
    "    \n",
    "    x1=np.linspace(0,10,1000)\n",
    "    x2=-1*(B[0]*x1+B0)/B[1]\n",
    "    \n",
    "    plt.plot(x1,x2,'k',linewidth=4)\n",
    "    return\n",
    "\n",
    "plt.show()"
   ]
  },
  {
   "cell_type": "markdown",
   "metadata": {},
   "source": [
    "# Classification\n",
    "\n",
    "Suppose we're given data points $x_i \\in \\mathbb{R}^n$ and $y_i \\in \\{-1,+1\\}$, for $i = 1,\\dots,N$. \n",
    "\n",
    "The $x_i$ are the features and $y_i$ are labels taking values in either $-1$ or $+1$. The $x_i$ could be the pixel intensities in an image of an animal, and $y_i$ could indicate whether the animal is a `cat` or `dog`, for example. For machine learning, we want to get a good guess of what $y_i$ is from only looking at $x_i$; so, the computer algorithm can take in images and distinguish between cats and dogs. \n",
    "\n",
    "## Defining a linear classifier\n",
    "Our dataset is then $(x_1,y_1),\\dots,(x_N,y_N)$.\n",
    "\n",
    "Now let's fix some parameters $\\beta \\in \\mathbb{R}^n$ and $\\beta_0 \\in \\mathbb{R}$. We can define a hyperplane as:\n",
    "\n",
    "$$\\{ x : x^{T} \\beta + \\beta_0 = 0 \\}$$\n",
    "\n",
    "This cuts our feature space, $\\mathbb{R}^n$, in half. That is, every point in $\\mathbb{R}^n$ is either above, below, or on this hyperplane. \n",
    "\n",
    "Let:\n",
    "\n",
    "$$\n",
    "f(x;\\beta,\\beta_0) = x^T \\beta + \\beta_0\n",
    "$$\n",
    "\n",
    "Sometimes, when it is obvious, we'll drop the dependence on $\\beta,\\beta_0$ and just denote this $f(x)$.\n",
    "\n",
    "We can define a classifier:\n",
    "\n",
    "$$\n",
    "G(x) = \n",
    "\\begin{cases}\n",
    "+1 & \\text{ if } f(x) \\geq 0 \\\\\n",
    "-1 & \\text{ if } f(x) < 0\n",
    "\\end{cases}\n",
    "$$\n",
    "\n",
    "\n",
    "\n",
    "\n"
   ]
  },
  {
   "cell_type": "markdown",
   "metadata": {},
   "source": [
    "## Task 1: Linear Classifier\n",
    "\n",
    "We begin by creating a function that takes in $\\beta$ and $\\beta_0$ and outputs a label for each datapoint. Note that $X \\in \\mathbb{R}^{N \\times 2}$ is a matrix of $N$ datapoints."
   ]
  },
  {
   "cell_type": "code",
   "execution_count": 3,
   "metadata": {
    "collapsed": true
   },
   "outputs": [],
   "source": [
    "\n",
    "def classify(B,B0,X):\n",
    "         \n",
    "        Yhat=np.zeros(len(X))\n",
    "        Yhat[np.dot(x,B)+B0>=0]=1\n",
    "        Yhat[np.dot(x,B)+B0<0]=-1\n",
    "        \n",
    "        return Yhat\n",
    "    "
   ]
  },
  {
   "cell_type": "code",
   "execution_count": 4,
   "metadata": {
    "scrolled": true
   },
   "outputs": [
    {
     "name": "stdout",
     "output_type": "stream",
     "text": [
      "\n",
      "\n",
      "190 Data points were classified as +1\n",
      "10 Data points were classified as -1\n",
      "\n",
      "\n"
     ]
    },
    {
     "data": {
      "image/png": "[encoded data removed]",
      "text/plain": [
       "<matplotlib.figure.Figure at 0x1052000b8>"
      ]
     },
     "metadata": {},
     "output_type": "display_data"
    }
   ],
   "source": [
    "test_B=np.random.rand(2)\n",
    "test_B0=np.random.rand(1)\n",
    "\n",
    "print()\n",
    "print()\n",
    "print (str(np.sum(classify(test_B,test_B0,x)==1)) + ' Data points were classified as +1')\n",
    "print (str(np.sum(classify(test_B,test_B0,x)==-1)) + ' Data points were classified as -1')\n",
    "print()\n",
    "print()\n",
    "\n",
    "\n",
    "plt.figure()\n",
    "plt.plot(x0,y0,'ro')\n",
    "plt.plot(x1,y1,'bo')\n",
    "plotClassifier(test_B,test_B0)\n",
    "\n",
    "plt.show()"
   ]
  },
  {
   "cell_type": "markdown",
   "metadata": {},
   "source": [
    "# Maximum Margin Classification\n",
    "\n",
    "Having defined a general function that classifies points, we now try to find the maximum margin classifier.\n",
    "\n",
    "Suppose our dataset is strongly separable. (Sanity check: Is the data we are using separable by a hyperplane?). There are infinitely many hyperplanes that can separate this data. Which one of these separators is 'best'? The answer is the one with the largest margin.\n",
    "\n",
    "Recall from class that the problem that maximum margin classification is trying to solve is:\n",
    "\n",
    "\\begin{align*}\n",
    "\\max_{\\beta,\\beta_0}~ & \\frac{1}{\\|\\beta\\|_2} \\\\\n",
    "\\text{subject to }~\t\t& y_i (x_i^T \\beta + \\beta_0) \\geq 1 \\text{ for } i = 1,\\dots,N \\\\\n",
    "\\end{align*}\n",
    "\n",
    "Note that when we norm constraint, what was the `margin' before is now equal to $\\frac{1}{\\|\\beta\\|_2}$.\n"
   ]
  },
  {
   "cell_type": "markdown",
   "metadata": {},
   "source": [
    "## Task 2: Maximum Margin Classifier in Closed Form"
   ]
  },
  {
   "cell_type": "markdown",
   "metadata": {},
   "source": [
    "Using the KKT conditions derived in class, write out a closed form solution for $B$ and $B_0$\n",
    "\n",
    "$$\n",
    "B=???\n",
    "$$\n",
    "\n",
    "$$\n",
    "B_0=???\n",
    "$$\n",
    "\n",
    "Now use this closed form, and implement it in code below:"
   ]
  },
  {
   "cell_type": "code",
   "execution_count": null,
   "metadata": {
    "collapsed": true
   },
   "outputs": [],
   "source": [
    "def maxMarginClassifier(X,Y):\n",
    "    \n",
    "    #TODO\n",
    "    \n",
    "    return B, B_0\n"
   ]
  },
  {
   "cell_type": "code",
   "execution_count": null,
   "metadata": {},
   "outputs": [],
   "source": [
    "B,B_0=maxMarginClassifier(x,y)\n",
    "\n",
    "print()\n",
    "print()\n",
    "print (str(np.sum(classify(B,B_0,x)==1)) + ' Data points were classified as +1')\n",
    "print (str(np.sum(classify(B,B_0,x)==-1)) + ' Data points were classified as -1')\n",
    "print ('The margin of the classifier is '+ str(1/np.linalg.norm(B,2)))\n",
    "print()\n",
    "print()\n",
    "\n",
    "\n",
    "plt.figure()\n",
    "plt.plot(x0,y0,'ro')\n",
    "plt.plot(x1,y1,'bo')\n",
    "plotClassifier(B,B_0)\n",
    "\n",
    "plt.show()"
   ]
  },
  {
   "cell_type": "markdown",
   "metadata": {},
   "source": [
    "The data points that determine the maximum margin are commonly referred to as 'support vectors'. These are the points such that:\n",
    "\n",
    "$$\n",
    "||f(x)||=\\frac{1}{\\|\\beta\\|_2}\n",
    "$$\n",
    "\n"
   ]
  },
  {
   "cell_type": "markdown",
   "metadata": {},
   "source": [
    "Find the support vectors of the maximum margin classifier you derived previously:"
   ]
  },
  {
   "cell_type": "code",
   "execution_count": null,
   "metadata": {
    "collapsed": true
   },
   "outputs": [],
   "source": [
    "# Find the support vectors of the maximum margin classifier you found above. If there are K support vectors, return\n",
    "# a Kx2 array with the support vectors\n",
    "\n",
    "def supportVectors(X,Y,B,B0):\n",
    "    \n",
    "    #TODO\n",
    "    \n",
    "    return \n",
    "    "
   ]
  },
  {
   "cell_type": "code",
   "execution_count": null,
   "metadata": {
    "scrolled": true
   },
   "outputs": [],
   "source": [
    "svecs=supportVectors(x,y, B,B_0)\n",
    "\n",
    "print()\n",
    "print()\n",
    "print( 'Support Vectors Shown in Green')\n",
    "print()\n",
    "print()\n",
    "\n",
    "\n",
    "plt.figure()\n",
    "plt.plot(x0,y0,'ro')\n",
    "plt.plot(x1,y1,'bo')\n",
    "plotClassifier(B,B_0)\n",
    "plt.plot(svecs[:,0],svecs[:,1],'go')\n",
    "\n",
    "plt.show()"
   ]
  }
 ],
 "metadata": {
  "kernelspec": {
   "display_name": "Python 3",
   "language": "python",
   "name": "python3"
  },
  "language_info": {
   "codemirror_mode": {
    "name": "ipython",
    "version": 3
   },
   "file_extension": ".py",
   "mimetype": "text/x-python",
   "name": "python",
   "nbconvert_exporter": "python",
   "pygments_lexer": "ipython3",
   "version": "3.6.2"
  }
 },
 "nbformat": 4,
 "nbformat_minor": 2
}
