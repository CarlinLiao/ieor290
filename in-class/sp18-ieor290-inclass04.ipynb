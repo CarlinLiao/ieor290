{
 "cells": [
  {
   "cell_type": "markdown",
   "metadata": {},
   "source": [
    "# In Class Assignment "
   ]
  },
  {
   "cell_type": "markdown",
   "metadata": {},
   "source": [
    "## Monday, March 19, 2018"
   ]
  },
  {
   "cell_type": "markdown",
   "metadata": {},
   "source": [
    "Today's class focuses on Causality. In this in class example, we are going to set up a randomized control trial using artificially generated data.\n",
    "\n",
    "We begin by creating a class called Subject. If you have not had experience with object oriented programming, this is just a nice concise way of creating an object that can store information, and which we can interact with in a simple way.\n",
    "\n",
    "A 'Subject' instance has attributes:\n",
    "\n",
    "* Subject.nfeatures - number of features\n",
    "* Subject.features - list of features in $\\mathbb{R}^{Subject.nfeatures}$\n",
    "* Subject.coeffs - coefficients for how each feature affects the outcome\n",
    "* Subject.type - boolean: 1 if the user is in the treatment group, 0 if the user is in the control group\n",
    "* Subject.outcome - A real number with the subject's outcome of the experiment\n",
    "* Subject.confound - boolean used in the final task to investigate the effects of the presence of a confounding variable\n",
    "\n",
    "You can access these attributes by running Subject.attribute, though in practice it is better to only interact with the defined functions:\n",
    "\n",
    "* Subject.assignGroup(treatment_type) - function that assigns the subjects to either the treatment group (treatment_type=1) or the control group (treatment_type=0).\n",
    "* Subject.getOutcome() - See the outcome of the treatment for the given subject.\n"
   ]
  },
  {
   "cell_type": "code",
   "execution_count": 35,
   "metadata": {
    "collapsed": true
   },
   "outputs": [],
   "source": [
    "# import packages\n",
    "import numpy as np\n",
    "import matplotlib.pyplot as plt\n",
    "import matplotlib.mlab as mlab\n",
    "import scipy.optimize as opt\n",
    "\n",
    "#Generate dummy data and instantiate functions\n",
    "np.random.seed(1337)\n",
    "cc=-1\n",
    "\n",
    "class Subject:\n",
    "    \n",
    "    def __init__(self,features,coeffs,confound=0):\n",
    "        \n",
    "        self.nfeatures=len(features)\n",
    "        self.features=np.zeros(self.nfeatures)\n",
    "        self.coeffs=coeffs\n",
    "        assert len(coeffs)==self.nfeatures+1\n",
    "        \n",
    "        for i in range(self.nfeatures):\n",
    "            self.features[i]=np.random.normal(features[i][0],features[i][1])\n",
    "        \n",
    "        self.type=None\n",
    "        self.outcome=None\n",
    "        self.confound=confound\n",
    "        self.coeff_confound=cc\n",
    "        \n",
    "        self._variance=2.0\n",
    "       \n",
    "    \n",
    "    def assignGroup(self,treatment_type):\n",
    "        \n",
    "        self.type=treatment_type\n",
    "        return \n",
    "    \n",
    "    def getFeature(self,index):\n",
    "        \n",
    "        return self.features[index]\n",
    "    \n",
    "    def getOutcome(self):\n",
    "        if self.type==None:\n",
    "            print( 'Subject has not been assigned to a group')\n",
    "            return None\n",
    "        else:\n",
    "            mean=0\n",
    "            for i in range(self.nfeatures):\n",
    "                mean+=coeffs[i]*self.features[i]\n",
    "            mean+=coeffs[-1]*self.type\n",
    "            if self.confound:\n",
    "                mean+=self.coeff_confound*self.type\n",
    "                \n",
    "            return np.random.normal(mean,self._variance)\n",
    "\n",
    "\n",
    "def getSettings(nfeatures=5):\n",
    "    feat_means=np.random.choice(range(10),nfeatures)\n",
    "    feat_vars=np.random.uniform(0,8,nfeatures)\n",
    "    features=[]\n",
    "    for i in range(nfeatures):\n",
    "        features.append((feat_means[i],feat_vars[i]))\n",
    "        \n",
    "    coeffs=np.random.uniform(-5,5,nfeatures+1)\n",
    "    return coeffs,features\n",
    "    \n",
    "def generateSubjects(Nsubjects,coeffs,features,confound=0):\n",
    "    \n",
    "    subjects=[]\n",
    "    \n",
    "    for i in range(Nsubjects):\n",
    "        subjects.append(Subject(features,coeffs,confound))\n",
    "    \n",
    "    \n",
    "    return subjects\n",
    "\n",
    "nfeatures=5\n",
    "coeffs,features=getSettings(nfeatures)"
   ]
  },
  {
   "cell_type": "markdown",
   "metadata": {},
   "source": [
    "## Task 1: Visualize Distributions\n",
    "We are going to begin by using the histogram feature of matplotlib.pyplot to visualize the distribution of the featuers of our subjects. Remeber, the goal of a randomized control trial is to ensure that the feature distributions of the control and treatment groups are essentially the same.\n",
    "\n",
    "The function plotDistribution that you are to complete below takes in:\n",
    "\n",
    "* subjects - a list of subject instances\n",
    "* f - the index of the feature of interest \n",
    "* num_bins - the number of bins we would like in the histogram \n",
    "* subplot - an extra argument for the subplot that you do not need to worry about dealing with\n",
    "\n",
    "It should return the bins from the hist function, the mean value for the given feature across the population and its variance.\n",
    "\n",
    "Remember that the matplotlib function plt.hist has the following syntax:\n",
    "\n",
    "matplotlib.pyplot.hist(x, bins=None, range=None, density=None, weights=None, cumulative=False, bottom=None, histtype='bar', align='mid', orientation='vertical', rwidth=None, log=False, color=None, label=None, stacked=False, normed=None, hold=None, data=None, **kwargs)\n",
    "\n",
    "** Do not use the plt.show() command in this function **\n",
    "\n"
   ]
  },
  {
   "cell_type": "code",
   "execution_count": 36,
   "metadata": {},
   "outputs": [
    {
     "data": {
      "image/png": "[encoded data removed]",
      "text/plain": [
       "<matplotlib.figure.Figure at 0x116060c50>"
      ]
     },
     "metadata": {},
     "output_type": "display_data"
    }
   ],
   "source": [
    "def plotDistribution(subjects,f,num_bins=50,subplot=1):\n",
    "    plt.subplot(120+subplot)\n",
    "    \n",
    "    #TODO\n",
    "    \n",
    "    \n",
    "    return bins,mean,var\n",
    "\n",
    "#coeffs,features=getSettings(nfeatures)\n",
    "subjects=generateSubjects(1000,coeffs,features,0)\n",
    "bins,mu,var=plotDistribution(subjects,3)\n",
    "plt.show()"
   ]
  },
  {
   "cell_type": "markdown",
   "metadata": {},
   "source": [
    "## Task 2: Assign the Subjects a Treatment\n",
    "\n",
    "We will now partition the subjects into two groups, the control, and treatment groups using 0,1 for control and treatment respectively. \n",
    "\n",
    "**The way you parition is left to you, the key is to make sure that the two groups are similarly distributed.**\n",
    "\n",
    "the partitionSubjects function you are to complete takes in the list of subject instances, and returns two lists. One with the subjects that have been assigned to the control group, and the other for the subjects that have been assigned to the treatment group.\n",
    "\n",
    "Remember to use the functions defined in the Subject class at the beginning of the assignment."
   ]
  },
  {
   "cell_type": "code",
   "execution_count": 37,
   "metadata": {},
   "outputs": [
    {
     "name": "stdout",
     "output_type": "stream",
     "text": [
      "Number of Subjects in Control Group: 492\n",
      "Number of Subjects in Treatment Group: 508\n"
     ]
    }
   ],
   "source": [
    "def partitionSubjects(subjects):\n",
    "    \n",
    "    #TODO \n",
    "        \n",
    "    return control,treatment\n",
    "\n",
    "control,treatment=partitionSubjects(subjects)\n",
    "\n",
    "print ('Number of Subjects in Control Group: '+(str(len(control))))\n",
    "print ('Number of Subjects in Treatment Group: '+(str(len(treatment))))\n",
    "    "
   ]
  },
  {
   "cell_type": "markdown",
   "metadata": {},
   "source": [
    "## Task 3: Compare the two groups\n",
    "\n",
    "The compareGroups functions should plot the distributions of both the control and treatment groups for a given feature $f$.\n",
    "\n",
    "You can use the plotDistribution function above, and set subplot=1 or 2 to plot the two plots next to each other. numbins is a design argument you can play with.\n",
    "\n",
    "Do the two groups look similar distributionally? How would you measure the difference between the two groups?\n",
    "\n"
   ]
  },
  {
   "cell_type": "code",
   "execution_count": 38,
   "metadata": {},
   "outputs": [
    {
     "name": "stdout",
     "output_type": "stream",
     "text": [
      "Feature 1: \n"
     ]
    },
    {
     "data": {
      "image/png": "[encoded data removed]",
      "text/plain": [
       "<matplotlib.figure.Figure at 0x1144e38d0>"
      ]
     },
     "metadata": {},
     "output_type": "display_data"
    },
    {
     "name": "stdout",
     "output_type": "stream",
     "text": [
      "Feature 2: \n"
     ]
    },
    {
     "data": {
      "image/png": "[encoded data removed]",
      "text/plain": [
       "<matplotlib.figure.Figure at 0x116082d68>"
      ]
     },
     "metadata": {},
     "output_type": "display_data"
    },
    {
     "name": "stdout",
     "output_type": "stream",
     "text": [
      "Feature 3: \n"
     ]
    },
    {
     "data": {
      "image/png": "[encoded data removed]",
      "text/plain": [
       "<matplotlib.figure.Figure at 0x10c1639b0>"
      ]
     },
     "metadata": {},
     "output_type": "display_data"
    },
    {
     "name": "stdout",
     "output_type": "stream",
     "text": [
      "Feature 4: \n"
     ]
    },
    {
     "data": {
      "image/png": "[encoded data removed]",
      "text/plain": [
       "<matplotlib.figure.Figure at 0x1183e2be0>"
      ]
     },
     "metadata": {},
     "output_type": "display_data"
    },
    {
     "name": "stdout",
     "output_type": "stream",
     "text": [
      "Feature 5: \n"
     ]
    },
    {
     "data": {
      "image/png": "[encoded data removed]",
      "text/plain": [
       "<matplotlib.figure.Figure at 0x114484048>"
      ]
     },
     "metadata": {},
     "output_type": "display_data"
    }
   ],
   "source": [
    "def compareGroups(control,treatment,f,numbins=10):\n",
    "    \n",
    "    \n",
    "    plt.show()\n",
    "    return\n",
    "\n",
    "for i in range(nfeatures):\n",
    "    print('Feature '+str(i+1)+': ')\n",
    "    compareGroups(control,treatment,i)       \n"
   ]
  },
  {
   "cell_type": "markdown",
   "metadata": {},
   "source": [
    "## Task 4: Calculate Treatment Effects:\n",
    "\n",
    "Use the outcome function for each Subject instance to calculate the treatment effect."
   ]
  },
  {
   "cell_type": "code",
   "execution_count": 39,
   "metadata": {
    "collapsed": true
   },
   "outputs": [],
   "source": [
    "def calculate_Treatment_Effect(control,treatment):\n",
    "    \n",
    "     #TODO   \n",
    "    return treatment_effect\n",
    "\n",
    "\n",
    "    "
   ]
  },
  {
   "cell_type": "code",
   "execution_count": 40,
   "metadata": {},
   "outputs": [
    {
     "name": "stdout",
     "output_type": "stream",
     "text": [
      "The Estimated treatment effect is: -3.209682707126534\n",
      "The True treatment effect is: -3.40051364577\n"
     ]
    }
   ],
   "source": [
    "print ('The Estimated treatment effect is: ' + str(calculate_Treatment_Effect(control,treatment)))\n",
    "print ('The True treatment effect is: ' + str(coeffs[-1]))\n"
   ]
  },
  {
   "cell_type": "markdown",
   "metadata": {},
   "source": [
    "Now investigate the effects of the number of subjects on your estimate of the treatment effect:"
   ]
  },
  {
   "cell_type": "code",
   "execution_count": 41,
   "metadata": {},
   "outputs": [
    {
     "name": "stdout",
     "output_type": "stream",
     "text": [
      "The Estimated treatment effect is: -3.6364626219250162\n",
      "The True treatment effect is: -3.40051364577\n"
     ]
    }
   ],
   "source": [
    "N=100000\n",
    "subjects=generateSubjects(N,coeffs,features)\n",
    "control,treatment=partitionSubjects(subjects)\n",
    "print ('The Estimated treatment effect is: ' + str(calculate_Treatment_Effect(control,treatment)))\n",
    "print ('The True treatment effect is: ' + str(coeffs[-1]))"
   ]
  },
  {
   "cell_type": "markdown",
   "metadata": {},
   "source": [
    "## Task 5: Effects of a Confounding Variable\n",
    "Now, lets investigate the effects of a confounding variable. Remember the definition of a confounding variable form class. The next cell uses your functions and estimates the treatment effects. Run it multiple times to see how the confounding variable can either make you overestimate or underestimate the treatment effect."
   ]
  },
  {
   "cell_type": "code",
   "execution_count": 47,
   "metadata": {},
   "outputs": [
    {
     "name": "stdout",
     "output_type": "stream",
     "text": [
      "The Estimated treatment effect is: -1.8040273964023097\n",
      "The True treatment effect is: -3.40051364577\n"
     ]
    }
   ],
   "source": [
    "#coeffs,features=getSettings(nfeatures)\n",
    "cc=np.random.normal(0,5)\n",
    "subjects=generateSubjects(10000,coeffs,features,1)\n",
    "control,treatment=partitionSubjects(subjects)\n",
    "print ('The Estimated treatment effect is: ' + str(calculate_Treatment_Effect(control,treatment)))\n",
    "print ('The True treatment effect is: ' + str(coeffs[-1]))"
   ]
  },
  {
   "cell_type": "markdown",
   "metadata": {},
   "source": [
    "How would you deal with the confounding variable?"
   ]
  }
 ],
 "metadata": {
  "kernelspec": {
   "display_name": "Python 3",
   "language": "python",
   "name": "python3"
  },
  "language_info": {
   "codemirror_mode": {
    "name": "ipython",
    "version": 3
   },
   "file_extension": ".py",
   "mimetype": "text/x-python",
   "name": "python",
   "nbconvert_exporter": "python",
   "pygments_lexer": "ipython3",
   "version": "3.6.1"
  }
 },
 "nbformat": 4,
 "nbformat_minor": 2
}
